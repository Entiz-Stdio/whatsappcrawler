{
 "cells": [
  {
   "cell_type": "code",
   "execution_count": null,
   "metadata": {},
   "outputs": [],
   "source": [
    "import bs4\n",
    "from bs4 import BeautifulSoup as soup\n",
    "from urllib.request import urlopen,Request\n",
    "import re\n",
    "import selenium"
   ]
  },
  {
   "cell_type": "code",
   "execution_count": null,
   "metadata": {
    "scrolled": true
   },
   "outputs": [],
   "source": [
    "#!pip install selenium"
   ]
  },
  {
   "cell_type": "code",
   "execution_count": null,
   "metadata": {},
   "outputs": [],
   "source": [
    "from selenium import webdriver\n",
    "driver = webdriver.Chrome()\n",
    "driver.get(url)\n",
    "name = input('Enter name of usr or grp:')\n",
    "msg = input('Enter your message:')\n",
    "count = int(input('Enter count'))\n",
    "input(\"STUPID QR CODE\")\n",
    "user = driver.find_element_by_xpath('//span[@title =\"{}\"]'.format(name))\n",
    "user.click()\n",
    "user = driver.find_element_by_xpath(\"\"\"//*[@id=\"main\"]/header/div[2]/div[1]/div/span\"\"\")\n",
    "user.click()"
   ]
  },
  {
   "cell_type": "code",
   "execution_count": 3,
   "metadata": {},
   "outputs": [],
   "source": [
    "def grp():\n",
    "    usr = input('Enter name of usr or grp:')\n",
    "    search(usr)    #takes u inside the group UI\n",
    "    print(\"Working on this:\")"
   ]
  },
  {
   "cell_type": "code",
   "execution_count": 2,
   "metadata": {},
   "outputs": [],
   "source": [
    "import selenium\n",
    "from selenium import webdriver\n",
    "from selenium.webdriver.common.keys import Keys\n",
    "url = \"https://web.whatsapp.com\"\n",
    "driver = webdriver.Chrome()\n",
    "driver.get(url)\n",
    "\n",
    "def hubba():\n",
    "    print(\"\\t\\t^^== CODED WITH LOVE FROM CÃLIN ==^^\")\n",
    "    print(\"\\nI WON'T BE HELD RESPONSIBLE FOR WHAT YOU DO WITH THIS\")\n",
    "    print(\"USES SELENIUM TO ACCESS ELEMENTS FROM WEB WHATSAPP\")\n",
    "    print(\"For suggestions mail me -> 2xtaptap@gmail.com\")\n",
    "    \n",
    "def grp():\n",
    "    usr = input('Enter name of usr or grp:')\n",
    "    search(usr)    #takes u inside the group UI\n",
    "    print(\"Working on this:\")\n",
    "    \n",
    "def flood():\n",
    "    usr = input('Enter name of usr or grp:')\n",
    "    msg = input(\"Enter the message to flood or send:\")\n",
    "    count = int(input(\"Enter the number of msgs:\"))\n",
    "    search(usr)\n",
    "    #input(\"just a pause\")\n",
    "    go = int(input(\"Are you sure?\\n0\"))\n",
    "    if(go==0):\n",
    "        for i in range(count):\n",
    "            msg_box = driver.find_element_by_xpath(\"\"\"//*[@id=\"main\"]/footer/div[1]/div[2]\"\"\")\n",
    "            msg_box.send_keys(msg)\n",
    "            button =driver.find_element_by_xpath(\"\"\"//*[@id=\"main\"]/footer/div[1]/div[3]\"\"\")\n",
    "            button.click()\n",
    "    else:\n",
    "        print(\"Phew\")\n",
    "        \n",
    "def search(usr):\n",
    "    #user2 = driver.find_element_by_class_name(\"eiCXe\")\n",
    "    search_box = driver.find_element_by_xpath(\"\"\"//*[@id=\"side\"]/div[1]/div/label/input\"\"\") #finding search box\n",
    "    search_box.click() #clicking search box\n",
    "    search_box.send_keys(usr)  #typing user/grp name\n",
    "    input(\"Waiting 3 seconds to fetch results and press enter:\")\n",
    "    search_box.send_keys(Keys.ENTER)\n",
    "    \n",
    "def fn():\n",
    "    print(\"1.Add members to group\\n2.Flood msg\\n3.Use if Flooding doesnt work:(\\n4.Exit\")\n",
    "    choice = int(input(\"Enter Choice:\"))\n",
    "    if choice==1:\n",
    "        try:\n",
    "            grp()\n",
    "        except:\n",
    "            print(\"\\n___grp_fn error.. recovering___\\n\")\n",
    "    elif choice==2:\n",
    "        try:\n",
    "            flood()\n",
    "        except:\n",
    "            print(\"\\n___flood_fn error.. recovering___\\n\")\n",
    "    elif choice==4:\n",
    "        print(\"\\n___Exiting...___\\n\")\n",
    "    else:\n",
    "        print(\"\\n___Invalid choice :(___\\n\")\n",
    "\n",
    "hubba()    \n",
    "fn()        \n"
   ]
  },
  {
   "cell_type": "code",
   "execution_count": 4,
   "metadata": {},
   "outputs": [
    {
     "name": "stdout",
     "output_type": "stream",
     "text": [
      "1.Add members to group\n",
      "2.Flood msg\n",
      "3.Use if Flooding doesnt work:(\n",
      "4.Exit\n",
      "Enter Choice:4\n",
      "\n",
      "___Exiting...___\n",
      "\n",
      "1.Add members to group\n",
      "2.Flood msg\n",
      "3.Use if Flooding doesnt work:(\n",
      "4.Exit\n",
      "Enter Choice:4\n",
      "\n",
      "___Exiting...___\n",
      "\n",
      "1.Add members to group\n",
      "2.Flood msg\n",
      "3.Use if Flooding doesnt work:(\n",
      "4.Exit\n",
      "Enter Choice:fs\n"
     ]
    },
    {
     "ename": "ValueError",
     "evalue": "invalid literal for int() with base 10: 'fs'",
     "output_type": "error",
     "traceback": [
      "\u001b[1;31m---------------------------------------------------------------------------\u001b[0m",
      "\u001b[1;31mValueError\u001b[0m                                Traceback (most recent call last)",
      "\u001b[1;32m<ipython-input-4-e1d0f67027b9>\u001b[0m in \u001b[0;36m<module>\u001b[1;34m\u001b[0m\n\u001b[1;32m----> 1\u001b[1;33m \u001b[0mfn\u001b[0m\u001b[1;33m(\u001b[0m\u001b[1;33m)\u001b[0m\u001b[1;33m\u001b[0m\u001b[1;33m\u001b[0m\u001b[0m\n\u001b[0m",
      "\u001b[1;32m<ipython-input-3-e5f1c5c98278>\u001b[0m in \u001b[0;36mfn\u001b[1;34m()\u001b[0m\n\u001b[0;32m     48\u001b[0m     \u001b[1;32melse\u001b[0m\u001b[1;33m:\u001b[0m\u001b[1;33m\u001b[0m\u001b[1;33m\u001b[0m\u001b[0m\n\u001b[0;32m     49\u001b[0m         \u001b[0mprint\u001b[0m\u001b[1;33m(\u001b[0m\u001b[1;34m\"\\n___Invalid choice :(___\\n\"\u001b[0m\u001b[1;33m)\u001b[0m\u001b[1;33m\u001b[0m\u001b[1;33m\u001b[0m\u001b[0m\n\u001b[1;32m---> 50\u001b[1;33m     \u001b[0mfn\u001b[0m\u001b[1;33m(\u001b[0m\u001b[1;33m)\u001b[0m\u001b[1;33m\u001b[0m\u001b[1;33m\u001b[0m\u001b[0m\n\u001b[0m\u001b[0;32m     51\u001b[0m \u001b[1;33m\u001b[0m\u001b[0m\n",
      "\u001b[1;32m<ipython-input-3-e5f1c5c98278>\u001b[0m in \u001b[0;36mfn\u001b[1;34m()\u001b[0m\n\u001b[0;32m     48\u001b[0m     \u001b[1;32melse\u001b[0m\u001b[1;33m:\u001b[0m\u001b[1;33m\u001b[0m\u001b[1;33m\u001b[0m\u001b[0m\n\u001b[0;32m     49\u001b[0m         \u001b[0mprint\u001b[0m\u001b[1;33m(\u001b[0m\u001b[1;34m\"\\n___Invalid choice :(___\\n\"\u001b[0m\u001b[1;33m)\u001b[0m\u001b[1;33m\u001b[0m\u001b[1;33m\u001b[0m\u001b[0m\n\u001b[1;32m---> 50\u001b[1;33m     \u001b[0mfn\u001b[0m\u001b[1;33m(\u001b[0m\u001b[1;33m)\u001b[0m\u001b[1;33m\u001b[0m\u001b[1;33m\u001b[0m\u001b[0m\n\u001b[0m\u001b[0;32m     51\u001b[0m \u001b[1;33m\u001b[0m\u001b[0m\n",
      "\u001b[1;32m<ipython-input-3-e5f1c5c98278>\u001b[0m in \u001b[0;36mfn\u001b[1;34m()\u001b[0m\n\u001b[0;32m     32\u001b[0m \u001b[1;32mdef\u001b[0m \u001b[0mfn\u001b[0m\u001b[1;33m(\u001b[0m\u001b[1;33m)\u001b[0m\u001b[1;33m:\u001b[0m\u001b[1;33m\u001b[0m\u001b[1;33m\u001b[0m\u001b[0m\n\u001b[0;32m     33\u001b[0m     \u001b[0mprint\u001b[0m\u001b[1;33m(\u001b[0m\u001b[1;34m\"1.Add members to group\\n2.Flood msg\\n3.Use if Flooding doesnt work:(\\n4.Exit\"\u001b[0m\u001b[1;33m)\u001b[0m\u001b[1;33m\u001b[0m\u001b[1;33m\u001b[0m\u001b[0m\n\u001b[1;32m---> 34\u001b[1;33m     \u001b[0mchoice\u001b[0m \u001b[1;33m=\u001b[0m \u001b[0mint\u001b[0m\u001b[1;33m(\u001b[0m\u001b[0minput\u001b[0m\u001b[1;33m(\u001b[0m\u001b[1;34m\"Enter Choice:\"\u001b[0m\u001b[1;33m)\u001b[0m\u001b[1;33m)\u001b[0m\u001b[1;33m\u001b[0m\u001b[1;33m\u001b[0m\u001b[0m\n\u001b[0m\u001b[0;32m     35\u001b[0m     \u001b[1;32mif\u001b[0m \u001b[0mchoice\u001b[0m\u001b[1;33m==\u001b[0m\u001b[1;36m1\u001b[0m\u001b[1;33m:\u001b[0m\u001b[1;33m\u001b[0m\u001b[1;33m\u001b[0m\u001b[0m\n\u001b[0;32m     36\u001b[0m         \u001b[1;32mtry\u001b[0m\u001b[1;33m:\u001b[0m\u001b[1;33m\u001b[0m\u001b[1;33m\u001b[0m\u001b[0m\n",
      "\u001b[1;31mValueError\u001b[0m: invalid literal for int() with base 10: 'fs'"
     ]
    }
   ],
   "source": [
    "fn()"
   ]
  },
  {
   "cell_type": "code",
   "execution_count": 9,
   "metadata": {},
   "outputs": [
    {
     "name": "stdout",
     "output_type": "stream",
     "text": [
      "\t\t^^== CODED WITH LOVE FROM CÃLIN ==^^\n",
      "\n",
      "I WON'T BE HELD RESPONSIBLE FOR WHAT YOU DO WITH THIS\n",
      "USES SELENIUM TO ACCESS ELEMENTS FROM WEB WHATSAPP\n",
      "For suggestions mail me -> 2xtaptap@gmail.com\n"
     ]
    }
   ],
   "source": [
    "def hubba():\n",
    "    print(\"\\t\\t^^== CODED WITH LOVE FROM CÃLIN ==^^\")\n",
    "    print(\"\\nI WON'T BE HELD RESPONSIBLE FOR WHAT YOU DO WITH THIS\")\n",
    "    print(\"USES SELENIUM TO ACCESS ELEMENTS FROM WEB WHATSAPP\")\n",
    "    print(\"For suggestions mail me -> 2xtaptap@gmail.com\")"
   ]
  },
  {
   "cell_type": "code",
   "execution_count": null,
   "metadata": {},
   "outputs": [],
   "source": []
  },
  {
   "cell_type": "code",
   "execution_count": 13,
   "metadata": {},
   "outputs": [
    {
     "name": "stdout",
     "output_type": "stream",
     "text": [
      "<selenium.webdriver.remote.webelement.WebElement (session=\"c2d0137d6c44bf1360597b601c731acc\", element=\"98e43b44-adfc-4fac-afc0-5965289420e0\")>\n"
     ]
    }
   ],
   "source": [
    "print(target)\n",
    "# search_button = driver.find_elements_by_xpath(\"\"\"\"\"\")\n",
    "# search_buttton.click()\n",
    "\n",
    " # \n",
    "# user.click()\n",
    "#msg_box = driver.find_element_by_xpath(\"\"\"//*[@id=\"main\"]/footer/div[1]/div[2]\"\"\")\n",
    "\n",
    "# for i in range(count):\n",
    "#     msg_box.send_keys(msg)\n",
    "#     button =driver.find_element_by_xpath(\"\"\"//*[@id=\"main\"]/footer/div[1]/div[3]\"\"\")\n",
    "#     button.click()\n",
    "\n",
    "#target = driver.find_element_by_class_name(\"_2WP9Q\")\n",
    "    #target = driver.find_element_by_xpath('//span[@title=\"{}\"]'.format(usr))\n",
    "    #target = driver.find_element_by_class_name(\"matched-text\")\n",
    "    #target.click()"
   ]
  }
 ],
 "metadata": {
  "kernelspec": {
   "display_name": "Python 3",
   "language": "python",
   "name": "python3"
  },
  "language_info": {
   "codemirror_mode": {
    "name": "ipython",
    "version": 3
   },
   "file_extension": ".py",
   "mimetype": "text/x-python",
   "name": "python",
   "nbconvert_exporter": "python",
   "pygments_lexer": "ipython3",
   "version": "3.7.3"
  }
 },
 "nbformat": 4,
 "nbformat_minor": 2
}
